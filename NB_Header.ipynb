{
 "cells": [
  {
   "cell_type": "code",
   "execution_count": null,
   "metadata": {},
   "outputs": [],
   "source": [
    "# Load global libs\n",
    "import pandas as pd\n",
    "import numpy as np\n",
    "import os, time, sys, re\n",
    "# from tqdm import tqdm, tqdm_notebook"
   ]
  },
  {
   "cell_type": "code",
   "execution_count": null,
   "metadata": {
    "code_folding": []
   },
   "outputs": [],
   "source": [
    "# Load Jupyter format\n",
    "# print(os.path.abspath(os.curdir))\n",
    "from IPython.display import display, HTML\n",
    "pd.set_option('display.float_format', '{:,.2f}'.format)\n",
    "pd.set_option(\"display.max_columns\",200)\n",
    "pd.set_option(\"display.max_rows\",400)\n",
    "pd.set_option('max_colwidth',200)\n",
    "pd.set_option('chained_assignment',None)\n",
    "\n",
    "# Monkey-patch integer format\n",
    "# http://stackoverflow.com/questions/24922609/formatting-thousand-separator-for-integers-in-a-pandas-dataframe\n",
    "import pandas.io.formats.format as pf\n",
    "class _IntArrayFormatter(pf.GenericArrayFormatter):\n",
    "    def _format_strings(self):\n",
    "        formatter = self.formatter or '{:,}'.format\n",
    "        fmt_values = [formatter(x) for x in self.values]\n",
    "        return fmt_values\n",
    "pf.IntArrayFormatter = _IntArrayFormatter"
   ]
  },
  {
   "cell_type": "code",
   "execution_count": null,
   "metadata": {},
   "outputs": [],
   "source": [
    "# Utility functions and timezone set up\n",
    "os.environ['TZ'] = 'US/Pacific'\n",
    "time.tzset()"
   ]
  }
 ],
 "metadata": {
  "hide_input": false,
  "kernelspec": {
   "display_name": "Python 3",
   "language": "python",
   "name": "python3"
  },
  "language_info": {
   "codemirror_mode": {
    "name": "ipython",
    "version": 3
   },
   "file_extension": ".py",
   "mimetype": "text/x-python",
   "name": "python",
   "nbconvert_exporter": "python",
   "pygments_lexer": "ipython3",
   "version": "3.7.3"
  }
 },
 "nbformat": 4,
 "nbformat_minor": 2
}
